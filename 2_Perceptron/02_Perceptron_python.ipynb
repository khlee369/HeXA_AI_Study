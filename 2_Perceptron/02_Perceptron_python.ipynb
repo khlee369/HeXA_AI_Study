{
 "cells": [
  {
   "cell_type": "markdown",
   "metadata": {
    "slideshow": {
     "slide_type": "slide"
    }
   },
   "source": [
    "<br><br>\n",
    "<font size='6'><b>Linear Classification</b></font><br><br>\n"
   ]
  },
  {
   "cell_type": "markdown",
   "metadata": {
    "slideshow": {
     "slide_type": "slide"
    }
   },
   "source": [
    "# 1. Supervised Learning\n",
    "\n",
    "![hi](./image_files/perceptron01.PNG)"
   ]
  },
  {
   "cell_type": "markdown",
   "metadata": {
    "slideshow": {
     "slide_type": "slide"
    }
   },
   "source": [
    "# 2. Classification\n",
    "\n",
    "- where $y$ is a discrete value\n",
    "    - develop the classification algorithm to determine which class a new input should fall into\n",
    "\n",
    "\n",
    "- start with binary class problems\n",
    "    - Later look at multiclass classification problem, although this is just an extension of binary classification\n",
    "\n",
    "\n",
    "- We could use linear regression\n",
    "    - Then, threshold the classifier output (i.e. anything over some value is yes, else no)\n",
    "    - linear regression with thresholding seems to work   \n",
    "\n",
    "\n",
    "- We will learn\n",
    "    - perceptron\n",
    "    - support vector machine\n",
    "    - logistic regression"
   ]
  },
  {
   "cell_type": "markdown",
   "metadata": {
    "slideshow": {
     "slide_type": "slide"
    }
   },
   "source": [
    "# 3. Perceptron\n",
    "\n",
    "- For input $x = \\begin{bmatrix}x_1\\\\ \\vdots\\\\ x_d \\end{bmatrix}\\;$ 'attributes of a customer' \n",
    "\n",
    "\n",
    "- weights $\\omega = \\begin{bmatrix}\\omega_1\\\\ \\vdots\\\\ \\omega_d \\end{bmatrix}$\n",
    "\n",
    "$$\\begin{align*} \\text{Approve credit if} \\;\n",
    "& \\sum\\limits_{i=1}^{d}\\omega_ix_i > \\text{threshold}, \\\\\n",
    "\\text{Deny credit if} \\;\n",
    "& \\sum\\limits_{i=1}^{d}\\omega_ix_i < \\text{threshold}.\n",
    "\\end{align*}$$\n",
    "\n",
    "<br>\n",
    "$$h(x) = \\text{sign} \\left(\\left( \\sum\\limits_{i=1}^{d}\\omega_ix_i \\right)- \\text{threshold} \\right) = \\text{sign}\\left(\\left( \\sum\\limits_{i=1}^{d}\\omega_ix_i \\right)+ \\omega_0\\right)$$\n",
    "\n",
    "- Introduce an artificial coordinate $x_0 = 1$:\n",
    "\n",
    "$$h(x) = \\text{sign}\\left( \\sum\\limits_{i=0}^{d}\\omega_ix_i \\right)$$\n",
    "\n",
    "- In vector form, the perceptron implements\n",
    "\n",
    "$$h(x) = \\text{sign}\\left( \\omega^T x \\right)$$"
   ]
  },
  {
   "cell_type": "markdown",
   "metadata": {
    "slideshow": {
     "slide_type": "fragment"
    }
   },
   "source": [
    "\n",
    "![hi](./image_files/perceptron02.png)\n",
    "\n",
    "\n",
    "- Hyperplane\n",
    "\n",
    "    - Separates a D-dimensional space into two half-spaces\n",
    "    - Defined by an outward pointing normal vector $\\omega$\n",
    "    - $\\omega$ is orthogonal to any vector lying on the hyperplane\n",
    "    - assume the hyperplane passes through origin, $\\omega^T x = 0$ with $x_0 = 1$\n",
    "\n",
    "![hi](./image_files/perceptron03.png)\n"
   ]
  },
  {
   "cell_type": "markdown",
   "metadata": {
    "slideshow": {
     "slide_type": "subslide"
    }
   },
   "source": [
    "## 3.1. Linear Classifier\n",
    "\n",
    "- represent the decision boundary by a hyperplane $\\omega$\n",
    "\n",
    "- The linear classifier is a way of combining expert opinion.\n",
    "\n",
    "- In this case, each opinion is made by a binary \"expert\"\n",
    "\n",
    "\n",
    "- Goal: to learn the hyperplane $\\omega$ using the training data\n",
    "\n",
    "<br>\n",
    "![h](image_files/perceptron04.png)\n",
    "<br>"
   ]
  },
  {
   "cell_type": "markdown",
   "metadata": {
    "slideshow": {
     "slide_type": "subslide"
    }
   },
   "source": [
    "## 3.2. Perceptron Algorithm\n",
    "\n",
    "The perceptron implements\n",
    "\n",
    "$$h(x) = \\text{sign}\\left( \\omega^Tx \\right)$$\n",
    "\n",
    "Given the training set\n",
    "\n",
    "$$(x_1, y_1), (x_2, y_2), \\cdots, (x_N, y_N) \\quad \\text{where } y_i \\in \\{-1,1\\}$$\n",
    "\n",
    "1) pick a misclassified point\n",
    "\n",
    "$$ \\text{sign}\\left(\\omega^Tx_n \\right) \\neq y_n$$\n",
    "\n",
    "2) and update the weight vector\n",
    "\n",
    "$$\\omega \\leftarrow \\omega + y_nx_n$$"
   ]
  },
  {
   "cell_type": "markdown",
   "metadata": {
    "slideshow": {
     "slide_type": "fragment"
    }
   },
   "source": [
    "<br>\n",
    "![h](./image_files/perceptron05.png)\n",
    "\n",
    "\n",
    "__Why perceptron updates work ?__\n",
    "\n",
    "- Let's look at a misclassified positive example ($y_n = +1$)\n",
    "\n",
    "    - perceptron (wrongly) thinks $\\omega_{old}^T x_n < 0$\n",
    "\n",
    "\n",
    "- updates would be\n",
    "$$ \\begin{align*}\\omega_{new} &= \\omega_{old} + y_n x_n = \\omega_{old} + x_n \\\\ \\\\\n",
    "\\omega_{new}^T x_n &= (\\omega_{old} + x_n)^T x_n = \\omega_{old}^T x_n + x_n^T x_n  \\end{align*}$$\n",
    "\n",
    "\n",
    "\n",
    "- Thus $\\omega_{new}^T x_n$ is <font color='green'>less negative</font> than $\\omega_{old}^T x_n$"
   ]
  },
  {
   "cell_type": "markdown",
   "metadata": {
    "slideshow": {
     "slide_type": "subslide"
    }
   },
   "source": [
    "## 3.3. Iterations of Perceptron\n",
    "\n",
    "1. Randomly assign $\\omega$\n",
    "<br><br>\n",
    "2. One iteration of the PLA (perceptron learning algorithm)\n",
    "    $$\\omega \\leftarrow \\omega + yx$$\n",
    "    where $(x, y)$ is a misclassified training point\n",
    "<br><br>\n",
    "3. At iteration $t = 1, 2, 3, \\cdots,$ pick a misclassified point from\n",
    "    $$(x_1,y_1),(x_2,y_2),\\cdots,(x_N, y_N)$$\n",
    "<br><br>\n",
    "4. and run a PLA iteration on it\n",
    "<br><br>\n",
    "5. That's it!\n",
    "\n",
    "<br>\n",
    "![h](./image_files/perceptron06.png)\n",
    "<br>"
   ]
  },
  {
   "cell_type": "markdown",
   "metadata": {
    "slideshow": {
     "slide_type": "subslide"
    }
   },
   "source": [
    "## 3.4. Perceptron loss function\n",
    "\n",
    "$$ L(\\omega) = \\sum_{n =1}^{m} \\max \\left\\{ 0, -y_n \\cdot \\left(\\omega^T x_n \\right)\\right\\} $$\n",
    "\n",
    "- Loss = 0 on examples where perceptron is correct, _i.e._, $y_n \\cdot \\left(\\omega^T x_n \\right) > 0$\n",
    "\n",
    "\n",
    "- Loss > 0 on examples where perceptron misclassified, _i.e._, $y_n \\cdot \\left(\\omega^T x_n \\right) < 0$\n",
    "\n",
    "\n",
    "<br>\n",
    "__note__: $\\text{sign}\\left(\\omega^T x_n \\right) \\neq y_n$ is equivalent to $ y_n \\cdot \\left(\\omega^T x_n \\right) < 0$"
   ]
  },
  {
   "cell_type": "markdown",
   "metadata": {
    "slideshow": {
     "slide_type": "subslide"
    }
   },
   "source": [
    "## 3.5. The best hyperplane separator?\n",
    "\n",
    "- Perceptron finds one of the many possible hyperplanes separating the data if one exists\n",
    "\n",
    "\n",
    "- Of the many possible choices, which one is the best?\n",
    "\n",
    "\n",
    "- Utilize distance information as well\n",
    "\n",
    "\n",
    "- Intuitively we want the hyperplane having the maximum margin\n",
    "\n",
    "\n",
    "- Large margin leads to good generalization on the test data\n",
    "    - we will see this formally when we cover Support Vector Machine"
   ]
  },
  {
   "cell_type": "markdown",
   "metadata": {
    "slideshow": {
     "slide_type": "subslide"
    }
   },
   "source": [
    "## 3.6. Python Example\n",
    "\n",
    "$$ \n",
    "\\begin{align*}\n",
    "\\omega &= \\begin{bmatrix} \\omega_1 \\\\ \\omega_2 \\\\ \\omega_3\\end{bmatrix}\\\\\n",
    "x &= \\begin{bmatrix} \\left(x^{(1)}\\right)^T \\\\ \\left(x^{(2)}\\right)^T \\\\ \\left(x^{(3)}\\right)^T\\\\ \\vdots \\\\ \\left(x^{(m)}\\right)^T \\end{bmatrix} = \\begin{bmatrix} 1 & x_1^{(1)} & x_2^{(1)} \\\\ 1 & x_1^{(2)} & x_2^{(2)} \\\\ 1 & x_1^{(3)} & x_2^{(3)}\\\\\\vdots & \\vdots & \\vdots \\\\ 1 & x_1^{(m)} & x_2^{(m)}\\end{bmatrix} \\\\\n",
    "y &= \\begin{bmatrix}y^{(1)} \\\\ y^{(2)} \\\\ y^{(3)}\\\\ \\vdots \\\\ y^{(m)} \\end{bmatrix}\n",
    "\\end{align*}$$\n",
    "\n"
   ]
  },
  {
   "cell_type": "code",
   "execution_count": 1,
   "metadata": {
    "collapsed": true,
    "slideshow": {
     "slide_type": "fragment"
    }
   },
   "outputs": [],
   "source": [
    "import numpy as np\n",
    "import matplotlib.pyplot as plt\n",
    "\n",
    "% matplotlib inline"
   ]
  },
  {
   "cell_type": "code",
   "execution_count": 2,
   "metadata": {
    "collapsed": true,
    "slideshow": {
     "slide_type": "fragment"
    }
   },
   "outputs": [],
   "source": [
    "#training data gerneration\n",
    "m = 100\n",
    "x1 = 8*np.random.rand(m, 1)\n",
    "x2 = 7*np.random.rand(m, 1) - 4\n",
    "\n",
    "g0 = 0.8*x1 + x2 - 3\n",
    "g1 = g0 - 1\n",
    "g2 = g0 + 1"
   ]
  },
  {
   "cell_type": "code",
   "execution_count": 3,
   "metadata": {
    "slideshow": {
     "slide_type": "fragment"
    }
   },
   "outputs": [
    {
     "name": "stdout",
     "output_type": "stream",
     "text": [
      "(array([ 0,  2,  5,  8, 16, 18, 19, 22, 23, 26, 30, 31, 33, 42, 46, 55, 59,\n",
      "       62, 64, 67, 72, 77, 83, 99]), array([0, 0, 0, 0, 0, 0, 0, 0, 0, 0, 0, 0, 0, 0, 0, 0, 0, 0, 0, 0, 0, 0, 0,\n",
      "       0]))\n"
     ]
    }
   ],
   "source": [
    "C1 = np.where(g1 >= 0)\n",
    "C2 = np.where(g2 < 0)\n",
    "print(C1)"
   ]
  },
  {
   "cell_type": "code",
   "execution_count": 4,
   "metadata": {
    "slideshow": {
     "slide_type": "fragment"
    }
   },
   "outputs": [
    {
     "name": "stdout",
     "output_type": "stream",
     "text": [
      "(24,)\n",
      "(45,)\n"
     ]
    }
   ],
   "source": [
    "C1 = np.where(g1 >= 0)[0]\n",
    "C2 = np.where(g2 < 0)[0]\n",
    "print(C1.shape)\n",
    "print(C2.shape)"
   ]
  },
  {
   "cell_type": "code",
   "execution_count": 6,
   "metadata": {
    "slideshow": {
     "slide_type": "fragment"
    }
   },
   "outputs": [
    {
     "data": {
      "image/png": "[encoded data removed]",
      "text/plain": [
       "<matplotlib.figure.Figure at 0x109518748>"
      ]
     },
     "metadata": {},
     "output_type": "display_data"
    }
   ],
   "source": [
    "plt.figure(figsize=(10, 6))\n",
    "plt.plot(x1[C1], x2[C1], 'ro', label='C1')\n",
    "plt.plot(x1[C2], x2[C2], 'bo', label='C2')\n",
    "plt.title('Linearly seperable classes', fontsize=15)\n",
    "plt.legend(loc='upper left', fontsize=15)\n",
    "plt.xlabel(r'$x_1$', fontsize=20)\n",
    "plt.ylabel(r'$x_2$', fontsize=20)\n",
    "plt.show()"
   ]
  },
  {
   "cell_type": "markdown",
   "metadata": {
    "slideshow": {
     "slide_type": "subslide"
    }
   },
   "source": [
    "$$ \n",
    "\\begin{align*}\n",
    "x &= \\begin{bmatrix} \\left(x^{(1)}\\right)^T \\\\ \\left(x^{(2)}\\right)^T \\\\ \\left(x^{(3)}\\right)^T\\\\ \\vdots \\\\ \\left(x^{(m)}\\right)^T \\end{bmatrix} = \\begin{bmatrix} 1 & x_1^{(1)} & x_2^{(1)} \\\\ 1 & x_1^{(2)} & x_2^{(2)} \\\\ 1 & x_1^{(3)} & x_2^{(3)}\\\\\\vdots & \\vdots & \\vdots \\\\ 1 & x_1^{(m)} & x_2^{(m)}\\end{bmatrix} \\\\\n",
    "y &= \\begin{bmatrix}y^{(1)} \\\\ y^{(2)} \\\\ y^{(3)}\\\\ \\vdots \\\\ y^{(m)} \\end{bmatrix}\n",
    "\\end{align*}$$"
   ]
  },
  {
   "cell_type": "code",
   "execution_count": 6,
   "metadata": {
    "collapsed": true,
    "slideshow": {
     "slide_type": "fragment"
    }
   },
   "outputs": [],
   "source": [
    "X1 = np.hstack([np.ones([C1.shape[0],1]), x1[C1], x2[C1]])\n",
    "X2 = np.hstack([np.ones([C2.shape[0],1]), x1[C2], x2[C2]])\n",
    "X = np.vstack([X1, X2])\n",
    "\n",
    "y = np.vstack([np.ones([C1.shape[0],1]), -np.ones([C2.shape[0],1])])\n",
    "\n",
    "X = np.asmatrix(X)\n",
    "y = np.asmatrix(y)"
   ]
  },
  {
   "cell_type": "markdown",
   "metadata": {
    "slideshow": {
     "slide_type": "fragment"
    }
   },
   "source": [
    "$$\\omega = \\begin{bmatrix} \\omega_1 \\\\ \\omega_2 \\\\ \\omega_3\\end{bmatrix}$$\n",
    "\n",
    "$$\\omega \\leftarrow \\omega + yx$$ where $(x, y)$ is a misclassified training point"
   ]
  },
  {
   "cell_type": "code",
   "execution_count": 7,
   "metadata": {
    "slideshow": {
     "slide_type": "fragment"
    }
   },
   "outputs": [
    {
     "name": "stdout",
     "output_type": "stream",
     "text": [
      "[[-9.        ]\n",
      " [ 1.97353111]\n",
      " [ 3.8229637 ]]\n"
     ]
    }
   ],
   "source": [
    "w = np.ones([3,1])\n",
    "w = np.asmatrix(w)\n",
    "\n",
    "n_iter = y.shape[0]\n",
    "for k in range(n_iter):\n",
    "    for i in range(n_iter):\n",
    "        if y[i,0] != np.sign(X[i,:]*w)[0,0]:\n",
    "            w += y[i,0]*X[i,:].T\n",
    "\n",
    "print(w)"
   ]
  },
  {
   "cell_type": "markdown",
   "metadata": {
    "slideshow": {
     "slide_type": "fragment"
    }
   },
   "source": [
    "$$\n",
    "\\begin{align*}\n",
    "g(x) &= \\omega^Tx + \\omega_0 = \\omega_1x_1 + \\omega_2x_2 + \\omega_0 = 0 \\\\\n",
    "\\implies x_2 &= -\\frac{\\omega_1}{\\omega_2} x_1 - \\frac{\\omega_0}{\\omega_2}\n",
    "\\end{align*}\n",
    "$$"
   ]
  },
  {
   "cell_type": "code",
   "execution_count": 8,
   "metadata": {
    "slideshow": {
     "slide_type": "fragment"
    }
   },
   "outputs": [
    {
     "data": {
      "image/png": "[encoded data removed]",
      "text/plain": [
       "<matplotlib.figure.Figure at 0x109c97d68>"
      ]
     },
     "metadata": {},
     "output_type": "display_data"
    }
   ],
   "source": [
    "x1p = np.linspace(0,8,100).reshape(-1,1)\n",
    "x2p = - w[1,0]/w[2,0]*x1p - w[0,0]/w[2,0]\n",
    "\n",
    "plt.figure(figsize=(10, 6))\n",
    "plt.scatter(x1[C1], x2[C1], c='r', s=50, label='C1')\n",
    "plt.scatter(x1[C2], x2[C2], c='b', s=50, label='C2')\n",
    "plt.plot(x1p, x2p, c='k', label='perceptron')\n",
    "plt.xlim([0,8])\n",
    "plt.xlabel('$x_1$', fontsize = 20)\n",
    "plt.ylabel('$x_2$', fontsize = 20)\n",
    "plt.legend(loc = 4, fontsize = 15)\n",
    "plt.show()"
   ]
  },
  {
   "cell_type": "code",
   "execution_count": 9,
   "metadata": {
    "collapsed": true,
    "slideshow": {
     "slide_type": "subslide"
    }
   },
   "outputs": [],
   "source": [
    "# animation\n",
    "\n",
    "import matplotlib.animation as animation\n",
    "% matplotlib qt5\n",
    "\n",
    "fig = plt.figure(figsize=(10, 6))\n",
    "ax = fig.add_subplot(1, 1, 1)\n",
    "plot_C1, = ax.plot(x1[C1], x2[C1], 'go', label='C1')\n",
    "plot_C2, = ax.plot(x1[C2], x2[C2], 'bo', label='C2')\n",
    "plot_perceptron, = ax.plot([], [], 'k', label='perceptron')\n",
    "\n",
    "ax.set_xlim(0, 8)\n",
    "ax.set_ylim(-3.5, 4.5)\n",
    "ax.set_xlabel(r'$x_1$', fontsize=20)\n",
    "ax.set_ylabel(r'$x_2$', fontsize=20)\n",
    "ax.legend(fontsize=15, loc='upper left')\n",
    "\n",
    "n_iter = y.shape[0]\n",
    "\n",
    "def init():\n",
    "    plot_perceptron.set_data(x1p, x2p)\n",
    "    return plot_perceptron,\n",
    "\n",
    "def animate(i):\n",
    "    global w\n",
    "    idx = i%n_iter\n",
    "    if y[idx,0] != np.sign(X[idx,:]*w)[0,0]:\n",
    "        w += y[idx,0]*X[idx,:].T\n",
    "        x2p = - w[1,0]/w[2,0]*x1p - w[0,0]/w[2,0]\n",
    "        plot_perceptron.set_data(x1p, x2p)\n",
    "    return plot_perceptron,\n",
    "    \n",
    "w = np.ones([3,1])\n",
    "x1p = np.linspace(0,8,100).reshape(-1,1)\n",
    "x2p = - w[1,0]/w[2,0]*x1p - w[0,0]/w[2,0]\n",
    "\n",
    "ani = animation.FuncAnimation(fig, animate, np.arange(0, n_iter**2), init_func=init,\n",
    "                              interval=0, repeat=False)\n",
    "plt.show()"
   ]
  },
  {
   "cell_type": "code",
   "execution_count": 10,
   "metadata": {
    "slideshow": {
     "slide_type": "skip"
    }
   },
   "outputs": [
    {
     "data": {
      "application/javascript": [
       "$.getScript('https://kmahelona.github.io/ipython_notebook_goodies/ipython_notebook_toc.js')"
      ],
      "text/plain": [
       "<IPython.core.display.Javascript object>"
      ]
     },
     "metadata": {},
     "output_type": "display_data"
    }
   ],
   "source": [
    "%%javascript\n",
    "$.getScript('https://kmahelona.github.io/ipython_notebook_goodies/ipython_notebook_toc.js')"
   ]
  }
 ],
 "metadata": {
  "kernelspec": {
   "display_name": "Python 3",
   "language": "python",
   "name": "python3"
  },
  "language_info": {
   "codemirror_mode": {
    "name": "ipython",
    "version": 3
   },
   "file_extension": ".py",
   "mimetype": "text/x-python",
   "name": "python",
   "nbconvert_exporter": "python",
   "pygments_lexer": "ipython3",
   "version": "3.7.3"
  }
 },
 "nbformat": 4,
 "nbformat_minor": 1
}
