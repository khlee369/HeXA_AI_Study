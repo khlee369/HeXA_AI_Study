{
 "cells": [
  {
   "cell_type": "markdown",
   "metadata": {},
   "source": [
    "# Syllabus\n",
    "\n",
    "## 0. Python and Envrionment setting\n",
    "    1. Installation (Anaconda, Virtual Environment, Tensorflow)\n",
    "    2. Jupyter notebook\n",
    "    3. Basic Python\n",
    "***\n",
    "## 1. Linear Algebra(ref. 3Blue1Brwon)\n",
    "    1. Vector\n",
    "    2. Linear combinations, Span, Basis vectors\n",
    "    3. Linear transformations and Matrices (including 3D)\n",
    "    4. Matrix multiplication as composition\n",
    "    5. Determinant\n",
    "    6. Inverse matrices, Column space, Null space\n",
    "    7. Nonsquare matrices as transformations\n",
    "    8. Dot products\n",
    "    9. Cross products\n",
    "    10. Change of basis\n",
    "    11. Eigenvectors and Eigenvalues\n",
    "***\n",
    "## 2. Probability and Statistics\n",
    "    1. Populations and Samples\n",
    "    2. Inference\n",
    "    3. Law of Large Numbers\n",
    "    4. Central limit theorem (Generating random numbers)\n",
    "    5. Multivariate Statistics\n",
    "    6. What is Probability (including conditional probability)\n",
    "    7. Random Variable\n",
    "    8. Random Vectors\n",
    "    9. Bayes Rule\n",
    "    10. Linear Transformation of Random Variables\n",
    "***\n",
    "## 3. Machine Learning\n",
    "    0. What is Machine Learning\n",
    "    1. Optimization\n",
    "    1. Linear Regeression\n",
    "        - single variable, multi variables\n",
    "        - overfitting, regularization(LASSO), L1 norm, L2 norm\n",
    "        - non-linear regression\n",
    "    2. Classificaton(including KNN), Perceptron\n",
    "    3. SVM\n",
    "    4. Logistic Regeression\n",
    "    6. Maximum Likelihood Estimation(i.e. MLE)\n",
    "    5. Clustering: K-means\n",
    "    6. PCA\n",
    "***\n",
    "## 4. Deep Learning\n",
    "    0. Difference between ML and DL\n",
    "    1. Neural Network\n",
    "    2. Autoencoder\n",
    "    3. Convolutional Neural Network\n",
    "    4. Recurrent Neural Network\n",
    "    5. Style Transfer\n",
    "    6. Generative Adversarial Network\n",
    "***\n",
    "## 5. Further Study\n",
    "    1. Reinforcement Learning\n",
    "    2. Natural Language Problems\n",
    "    3. Otters"
   ]
  },
  {
   "cell_type": "code",
   "execution_count": null,
   "metadata": {},
   "outputs": [],
   "source": []
  }
 ],
 "metadata": {
  "kernelspec": {
   "display_name": "Python [conda env:py35]",
   "language": "python",
   "name": "conda-env-py35-py"
  },
  "language_info": {
   "codemirror_mode": {
    "name": "ipython",
    "version": 3
   },
   "file_extension": ".py",
   "mimetype": "text/x-python",
   "name": "python",
   "nbconvert_exporter": "python",
   "pygments_lexer": "ipython3",
   "version": "3.5.6"
  }
 },
 "nbformat": 4,
 "nbformat_minor": 2
}
