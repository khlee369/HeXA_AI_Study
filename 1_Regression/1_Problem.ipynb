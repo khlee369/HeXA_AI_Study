{
 "cells": [
  {
   "cell_type": "markdown",
   "metadata": {},
   "source": [
    "# Problem"
   ]
  },
  {
   "cell_type": "markdown",
   "metadata": {},
   "source": [
    "The regularized least-squares problem has the form\n",
    "\n",
    "<br>\n",
    "$$ \\min_{\\theta} \\;\\lVert A\\theta -y\\rVert_2^2 + \\lambda \\lVert \\theta \\rVert_2^2$$\n",
    "\n",
    "(a) Show that the solution is given by\n",
    "<br><br>\n",
    "$$ \\hat{\\theta} = \\left( A^T A + \\lambda I_n \\right)^{-1} A^T y $$\n",
    "* Do not use the method of Lagrangian multipliers\n",
    "<br><br>"
   ]
  },
  {
   "cell_type": "markdown",
   "metadata": {},
   "source": [
    "(b) Write down a gradient descent algorithm for a given optimization problem. Assume the optimization problem in 1D case:\n",
    "\n",
    "$$ \\min_{\\theta}  (a\\theta -y)^2 + \\lambda\\theta^2 $$"
   ]
  },
  {
   "cell_type": "markdown",
   "metadata": {},
   "source": [
    "(c) Based on the result of (b), describe the role of regularizer term.\n",
    "\n",
    "* Hint: Gradient $g$ is computed by $ g = g_{projection} + g_{regularizer} $."
   ]
  },
  {
   "cell_type": "markdown",
   "metadata": {},
   "source": [
    "(d) Describe results of (a) and (b) have the same meaning."
   ]
  },
  {
   "cell_type": "markdown",
   "metadata": {},
   "source": [
    "(e) Find and draw an approximated curve of the given data points in Python using your gradient descent algorithm."
   ]
  },
  {
   "cell_type": "code",
   "execution_count": 2,
   "metadata": {},
   "outputs": [
    {
     "data": {
      "image/png": "[encoded data removed]",
      "text/plain": [
       "<Figure size 720x432 with 1 Axes>"
      ]
     },
     "metadata": {
      "needs_background": "light"
     },
     "output_type": "display_data"
    }
   ],
   "source": [
    "import numpy as np\n",
    "import matplotlib.pyplot as plt\n",
    "\n",
    "x = np.linspace(-4.5, 4.5, 10)\n",
    "y = np.array([0.9819, 0.7973, 1.9737, 0.1838, 1.3180, -0.8361, -0.6591, -2.4701, -2.8122, -6.2512])\n",
    "\n",
    "plt.figure(figsize=(10, 6))\n",
    "plt.plot(x, y, 'o')\n",
    "plt.xlabel('x', fontsize=15)\n",
    "plt.ylabel('y', fontsize=15)\n",
    "plt.xlim(-5, 5)\n",
    "plt.ylim(-7, 3)\n",
    "plt.show()"
   ]
  },
  {
   "cell_type": "markdown",
   "metadata": {},
   "source": [
    "# 대충순서\n",
    "\n",
    "## 1. W값 아무걸로 initializing 하기\n",
    "## 2. W2x^2 + W1x + W0 라인그려보기\n",
    "## 3. Cost Function (굳이 def function 으로 안만들어도됨) 구하기\n",
    "## 4. Gradient W 구하기\n",
    "## 5. iterative 하게 G.D하기\n",
    "## 5-1. iterative 하게 G.D할때 loss값 줄어드는지 확인"
   ]
  },
  {
   "cell_type": "code",
   "execution_count": 15,
   "metadata": {},
   "outputs": [
    {
     "name": "stdout",
     "output_type": "stream",
     "text": [
      "(10,)\n",
      "[-4.5 -3.5 -2.5 -1.5 -0.5  0.5  1.5  2.5  3.5  4.5]\n",
      "(10,)\n",
      "[ 0.9819  0.7973  1.9737  0.1838  1.318  -0.8361 -0.6591 -2.4701 -2.8122\n",
      " -6.2512]\n"
     ]
    }
   ],
   "source": [
    "print(x.shape)\n",
    "print(x)\n",
    "print(y.shape)\n",
    "print(y)"
   ]
  },
  {
   "cell_type": "markdown",
   "metadata": {},
   "source": [
    "# 1. W값 아무걸로 initializing 하기"
   ]
  },
  {
   "cell_type": "code",
   "execution_count": 16,
   "metadata": {},
   "outputs": [
    {
     "data": {
      "text/plain": [
       "array([16.75,  9.75,  4.75,  1.75,  0.75,  1.75,  4.75,  9.75, 16.75,\n",
       "       25.75])"
      ]
     },
     "execution_count": 16,
     "metadata": {},
     "output_type": "execute_result"
    }
   ],
   "source": [
    "w2 = 1\n",
    "w1 = 1\n",
    "w0 = 1\n",
    "y_hat = w2*x**2 + w1*x + w0\n",
    "y_hat"
   ]
  },
  {
   "cell_type": "markdown",
   "metadata": {},
   "source": [
    "# 2. W2x^2 + W1x + W0 라인그려보기"
   ]
  },
  {
   "cell_type": "code",
   "execution_count": 17,
   "metadata": {},
   "outputs": [
    {
     "data": {
      "image/png": "[encoded data removed]",
      "text/plain": [
       "<Figure size 720x432 with 1 Axes>"
      ]
     },
     "metadata": {
      "needs_background": "light"
     },
     "output_type": "display_data"
    }
   ],
   "source": [
    "plt.figure(figsize=(10,6))\n",
    "plt.plot(x,y,'o')\n",
    "plt.plot(x,y_hat)\n",
    "plt.show()"
   ]
  },
  {
   "cell_type": "markdown",
   "metadata": {},
   "source": [
    "# 3. Cost Function (굳이 def function 으로 안만들어도됨) 구하기"
   ]
  },
  {
   "cell_type": "code",
   "execution_count": null,
   "metadata": {},
   "outputs": [],
   "source": [
    "y_hat = w2*x**2 + w1*x + w0"
   ]
  },
  {
   "cell_type": "code",
   "execution_count": 24,
   "metadata": {},
   "outputs": [
    {
     "data": {
      "text/plain": [
       "array([ 0.9819,  0.7973,  1.9737,  0.1838,  1.318 , -0.8361, -0.6591,\n",
       "       -2.4701, -2.8122, -6.2512])"
      ]
     },
     "execution_count": 24,
     "metadata": {},
     "output_type": "execute_result"
    }
   ],
   "source": [
    "y"
   ]
  },
  {
   "cell_type": "code",
   "execution_count": 25,
   "metadata": {},
   "outputs": [
    {
     "data": {
      "text/plain": [
       "array([16.75,  9.75,  4.75,  1.75,  0.75,  1.75,  4.75,  9.75, 16.75,\n",
       "       25.75])"
      ]
     },
     "execution_count": 25,
     "metadata": {},
     "output_type": "execute_result"
    }
   ],
   "source": [
    "y_hat"
   ]
  },
  {
   "cell_type": "code",
   "execution_count": 27,
   "metadata": {},
   "outputs": [
    {
     "data": {
      "text/plain": [
       "array([2.48632978e+02, 8.01508373e+01, 7.70784169e+00, 2.45298244e+00,\n",
       "       3.22624000e-01, 6.68791321e+00, 2.92583628e+01, 1.49330844e+02,\n",
       "       3.82679669e+02, 1.02407680e+03])"
      ]
     },
     "execution_count": 27,
     "metadata": {},
     "output_type": "execute_result"
    }
   ],
   "source": [
    "(y_hat-y)**2"
   ]
  },
  {
   "cell_type": "code",
   "execution_count": 23,
   "metadata": {},
   "outputs": [
    {
     "name": "stdout",
     "output_type": "stream",
     "text": [
      "[2.48632978e+02 8.01508373e+01 7.70784169e+00 2.45298244e+00\n",
      " 3.22624000e-01 6.68791321e+00 2.92583628e+01 1.49330844e+02\n",
      " 3.82679669e+02 1.02407680e+03]\n",
      "1931.3008533399998\n"
     ]
    }
   ],
   "source": [
    "cost = (y_hat - y)**2\n",
    "print(cost)\n",
    "print(np.sum(cost))"
   ]
  },
  {
   "cell_type": "markdown",
   "metadata": {},
   "source": [
    "# 4. Gradient W 구하기"
   ]
  },
  {
   "cell_type": "code",
   "execution_count": 32,
   "metadata": {},
   "outputs": [
    {
     "name": "stdout",
     "output_type": "stream",
     "text": [
      "142.65623\n",
      "14.113309999999998\n",
      "10.0274\n"
     ]
    }
   ],
   "source": [
    "grad2 = (y_hat - y)*x**2\n",
    "grad1 = (y_hat - y)*x\n",
    "grad0 = (y_hat - y)\n",
    "\n",
    "grad2 = np.mean(grad2)\n",
    "grad1 = np.mean(grad1)\n",
    "grad0 = np.mean(grad0)\n",
    "\n",
    "print(grad2)\n",
    "print(grad1)\n",
    "print(grad0)"
   ]
  },
  {
   "cell_type": "code",
   "execution_count": null,
   "metadata": {},
   "outputs": [],
   "source": []
  }
 ],
 "metadata": {
  "kernelspec": {
   "display_name": "Python [conda env:HeXA_AI]",
   "language": "python",
   "name": "conda-env-HeXA_AI-py"
  },
  "language_info": {
   "codemirror_mode": {
    "name": "ipython",
    "version": 3
   },
   "file_extension": ".py",
   "mimetype": "text/x-python",
   "name": "python",
   "nbconvert_exporter": "python",
   "pygments_lexer": "ipython3",
   "version": "3.5.6"
  }
 },
 "nbformat": 4,
 "nbformat_minor": 2
}
